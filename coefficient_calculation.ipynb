{
 "cells": [
  {
   "cell_type": "code",
   "execution_count": 9,
   "metadata": {},
   "outputs": [
    {
     "data": {
      "text/plain": [
       "array(['Unnamed: 0', 'intel', 'crit', 'hit', 'sp', 'haste', 'spellstrike',\n",
       "       'spellfire', 'CSD', 'dps'], dtype=object)"
      ]
     },
     "execution_count": 9,
     "metadata": {},
     "output_type": "execute_result"
    }
   ],
   "source": [
    "import pandas as pd\n",
    "dps_df = pd.read_csv(\"dps_generated-CSD_trinket-QuagNoMagth.csv\")\n",
    "# base intel is 120, naked at level 70\n",
    "# dps_df['intel'] = dps_df.intel - 120\n",
    "\n",
    "dps_df.head()\n",
    "dps_df.columns.values"
   ]
  },
  {
   "cell_type": "code",
   "execution_count": 10,
   "metadata": {},
   "outputs": [
    {
     "data": {
      "application/vnd.jupyter.widget-view+json": {
       "model_id": "6fd09d146e08487e981bc5ab2f426cfc",
       "version_major": 2,
       "version_minor": 0
      },
      "text/plain": [
       "VBox(children=(Figure(axes=[Axis(scale=LinearScale()), Axis(orientation='vertical', scale=LinearScale())], fig…"
      ]
     },
     "metadata": {},
     "output_type": "display_data"
    }
   ],
   "source": [
    "import bqplot.pyplot as plt\n",
    "import numpy as np\n",
    "size = 10\n",
    "\n",
    "plt.figure(title='DPS based on SP score')\n",
    "# plt.scatter(np.random.randn(size), np.random.randn(size), color=np.random.randn(size))\n",
    "# plt.show()\n",
    "plt.scatter(dps_df.hit, dps_df.dps)\n",
    "\n",
    "plt.show()"
   ]
  },
  {
   "cell_type": "code",
   "execution_count": 11,
   "metadata": {},
   "outputs": [
    {
     "name": "stdout",
     "output_type": "stream",
     "text": [
      "[[0.34524609 0.50463688 0.66514278 0.65864157]]\n"
     ]
    }
   ],
   "source": [
    "# Regression multi variable\n",
    "from sklearn import linear_model \n",
    "from sklearn import preprocessing\n",
    "\n",
    "x = dps_df.values #returns a numpy array\n",
    "min_max_scaler = preprocessing.MinMaxScaler()\n",
    "x_scaled = min_max_scaler.fit_transform(x)\n",
    "df = pd.DataFrame(x_scaled)\n",
    "df.columns =['index', 'intel', 'crit', 'hit', 'sp', 'haste', 'spellstrike',\n",
    "       'spellfire', 'CSD', 'dps' ]\n",
    "\n",
    "regr = linear_model.LinearRegression()\n",
    "regr.fit(dps_df[['intel', 'crit', 'hit', 'sp']], dps_df[['dps']])\n",
    "# regr.fit(df[['1', '2', '3', '4']], df[['9']])\n",
    "\n",
    "print(regr.coef_)\n"
   ]
  },
  {
   "cell_type": "code",
   "execution_count": 12,
   "metadata": {},
   "outputs": [
    {
     "name": "stdout",
     "output_type": "stream",
     "text": [
      "Coefficients : \n",
      "- Intel :  0.5241790103786444\n",
      "- Crit :  0.7661783023070257\n",
      "- Hit :  1.0098706249441152\n",
      "- SP :  1\n"
     ]
    }
   ],
   "source": [
    "sp_coeff = regr.coef_.ravel()[3]\n",
    "\n",
    "intel_coeff = regr.coef_.ravel()[0] / sp_coeff\n",
    "crit_coeff = regr.coef_.ravel()[1] / sp_coeff\n",
    "hit_coeff = regr.coef_.ravel()[2] / sp_coeff\n",
    "\n",
    "sp_coeff = 1\n",
    "\n",
    "print(\"Coefficients : \")\n",
    "print(\"- Intel : \", intel_coeff)\n",
    "print(\"- Crit : \", crit_coeff)\n",
    "print(\"- Hit : \", hit_coeff)\n",
    "print(\"- SP : \", sp_coeff)\n"
   ]
  },
  {
   "cell_type": "code",
   "execution_count": null,
   "metadata": {},
   "outputs": [],
   "source": []
  }
 ],
 "metadata": {
  "kernelspec": {
   "display_name": "Python 3",
   "language": "python",
   "name": "python3"
  },
  "language_info": {
   "codemirror_mode": {
    "name": "ipython",
    "version": 3
   },
   "file_extension": ".py",
   "mimetype": "text/x-python",
   "name": "python",
   "nbconvert_exporter": "python",
   "pygments_lexer": "ipython3",
   "version": "3.8.5"
  }
 },
 "nbformat": 4,
 "nbformat_minor": 5
}
